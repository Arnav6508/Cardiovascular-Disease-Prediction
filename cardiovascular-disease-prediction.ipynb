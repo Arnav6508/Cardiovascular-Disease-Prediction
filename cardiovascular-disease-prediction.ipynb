{
 "cells": [
  {
   "cell_type": "code",
   "execution_count": 1,
   "id": "09d42a18",
   "metadata": {
    "_cell_guid": "b1076dfc-b9ad-4769-8c92-a6c4dae69d19",
    "_uuid": "8f2839f25d086af736a60e9eeb907d3b93b6e0e5",
    "execution": {
     "iopub.execute_input": "2024-06-27T14:49:20.041549Z",
     "iopub.status.busy": "2024-06-27T14:49:20.041151Z",
     "iopub.status.idle": "2024-06-27T14:49:22.318617Z",
     "shell.execute_reply": "2024-06-27T14:49:22.317544Z"
    },
    "papermill": {
     "duration": 2.28657,
     "end_time": "2024-06-27T14:49:22.321187",
     "exception": false,
     "start_time": "2024-06-27T14:49:20.034617",
     "status": "completed"
    },
    "tags": []
   },
   "outputs": [],
   "source": [
    "# This Python 3 environment comes with many helpful analytics libraries installed\n",
    "# It is defined by the kaggle/python Docker image: https://github.com/kaggle/docker-python\n",
    "# For example, here's several helpful packages to load\n",
    "\n",
    "import numpy as np # linear algebra\n",
    "import pandas as pd # data processing, CSV file I/O (e.g. pd.read_csv)\n",
    "from sklearn.tree import DecisionTreeClassifier\n",
    "from sklearn.ensemble import RandomForestClassifier\n",
    "from sklearn.model_selection import train_test_split\n",
    "from sklearn.metrics import accuracy_score\n",
    "from xgboost import XGBClassifier\n",
    "import matplotlib.pyplot as plt\n",
    "\n",
    "# Input data files are available in the read-only \"../input/\" directory\n",
    "# For example, running this (by clicking run or pressing Shift+Enter) will list all files under the input directory\n",
    "\n",
    "import os\n",
    "for dirname, _, filenames in os.walk('/kaggle/input'):\n",
    "    for filename in filenames:\n",
    "        file = os.path.join(dirname, filename)\n",
    "\n",
    "# You can write up to 20GB to the current directory (/kaggle/working/) that gets preserved as output when you create a version using \"Save & Run All\" \n",
    "# You can also write temporary files to /kaggle/temp/, but they won't be saved outside of the current session"
   ]
  },
  {
   "cell_type": "code",
   "execution_count": 2,
   "id": "cd01ab0d",
   "metadata": {
    "execution": {
     "iopub.execute_input": "2024-06-27T14:49:22.332100Z",
     "iopub.status.busy": "2024-06-27T14:49:22.331574Z",
     "iopub.status.idle": "2024-06-27T14:49:22.336982Z",
     "shell.execute_reply": "2024-06-27T14:49:22.335986Z"
    },
    "papermill": {
     "duration": 0.013594,
     "end_time": "2024-06-27T14:49:22.339541",
     "exception": false,
     "start_time": "2024-06-27T14:49:22.325947",
     "status": "completed"
    },
    "tags": []
   },
   "outputs": [
    {
     "name": "stdout",
     "output_type": "stream",
     "text": [
      "/kaggle/input/heart-failure-prediction/heart.csv\n"
     ]
    }
   ],
   "source": [
    "print(file)"
   ]
  },
  {
   "cell_type": "code",
   "execution_count": 3,
   "id": "c1ae9361",
   "metadata": {
    "execution": {
     "iopub.execute_input": "2024-06-27T14:49:22.350759Z",
     "iopub.status.busy": "2024-06-27T14:49:22.350417Z",
     "iopub.status.idle": "2024-06-27T14:49:22.389677Z",
     "shell.execute_reply": "2024-06-27T14:49:22.388710Z"
    },
    "papermill": {
     "duration": 0.047262,
     "end_time": "2024-06-27T14:49:22.392015",
     "exception": false,
     "start_time": "2024-06-27T14:49:22.344753",
     "status": "completed"
    },
    "tags": []
   },
   "outputs": [
    {
     "data": {
      "text/html": [
       "<div>\n",
       "<style scoped>\n",
       "    .dataframe tbody tr th:only-of-type {\n",
       "        vertical-align: middle;\n",
       "    }\n",
       "\n",
       "    .dataframe tbody tr th {\n",
       "        vertical-align: top;\n",
       "    }\n",
       "\n",
       "    .dataframe thead th {\n",
       "        text-align: right;\n",
       "    }\n",
       "</style>\n",
       "<table border=\"1\" class=\"dataframe\">\n",
       "  <thead>\n",
       "    <tr style=\"text-align: right;\">\n",
       "      <th></th>\n",
       "      <th>Age</th>\n",
       "      <th>Sex</th>\n",
       "      <th>ChestPainType</th>\n",
       "      <th>RestingBP</th>\n",
       "      <th>Cholesterol</th>\n",
       "      <th>FastingBS</th>\n",
       "      <th>RestingECG</th>\n",
       "      <th>MaxHR</th>\n",
       "      <th>ExerciseAngina</th>\n",
       "      <th>Oldpeak</th>\n",
       "      <th>ST_Slope</th>\n",
       "      <th>HeartDisease</th>\n",
       "    </tr>\n",
       "  </thead>\n",
       "  <tbody>\n",
       "    <tr>\n",
       "      <th>0</th>\n",
       "      <td>40</td>\n",
       "      <td>M</td>\n",
       "      <td>ATA</td>\n",
       "      <td>140</td>\n",
       "      <td>289</td>\n",
       "      <td>0</td>\n",
       "      <td>Normal</td>\n",
       "      <td>172</td>\n",
       "      <td>N</td>\n",
       "      <td>0.0</td>\n",
       "      <td>Up</td>\n",
       "      <td>0</td>\n",
       "    </tr>\n",
       "    <tr>\n",
       "      <th>1</th>\n",
       "      <td>49</td>\n",
       "      <td>F</td>\n",
       "      <td>NAP</td>\n",
       "      <td>160</td>\n",
       "      <td>180</td>\n",
       "      <td>0</td>\n",
       "      <td>Normal</td>\n",
       "      <td>156</td>\n",
       "      <td>N</td>\n",
       "      <td>1.0</td>\n",
       "      <td>Flat</td>\n",
       "      <td>1</td>\n",
       "    </tr>\n",
       "    <tr>\n",
       "      <th>2</th>\n",
       "      <td>37</td>\n",
       "      <td>M</td>\n",
       "      <td>ATA</td>\n",
       "      <td>130</td>\n",
       "      <td>283</td>\n",
       "      <td>0</td>\n",
       "      <td>ST</td>\n",
       "      <td>98</td>\n",
       "      <td>N</td>\n",
       "      <td>0.0</td>\n",
       "      <td>Up</td>\n",
       "      <td>0</td>\n",
       "    </tr>\n",
       "    <tr>\n",
       "      <th>3</th>\n",
       "      <td>48</td>\n",
       "      <td>F</td>\n",
       "      <td>ASY</td>\n",
       "      <td>138</td>\n",
       "      <td>214</td>\n",
       "      <td>0</td>\n",
       "      <td>Normal</td>\n",
       "      <td>108</td>\n",
       "      <td>Y</td>\n",
       "      <td>1.5</td>\n",
       "      <td>Flat</td>\n",
       "      <td>1</td>\n",
       "    </tr>\n",
       "    <tr>\n",
       "      <th>4</th>\n",
       "      <td>54</td>\n",
       "      <td>M</td>\n",
       "      <td>NAP</td>\n",
       "      <td>150</td>\n",
       "      <td>195</td>\n",
       "      <td>0</td>\n",
       "      <td>Normal</td>\n",
       "      <td>122</td>\n",
       "      <td>N</td>\n",
       "      <td>0.0</td>\n",
       "      <td>Up</td>\n",
       "      <td>0</td>\n",
       "    </tr>\n",
       "  </tbody>\n",
       "</table>\n",
       "</div>"
      ],
      "text/plain": [
       "   Age Sex ChestPainType  RestingBP  Cholesterol  FastingBS RestingECG  MaxHR  \\\n",
       "0   40   M           ATA        140          289          0     Normal    172   \n",
       "1   49   F           NAP        160          180          0     Normal    156   \n",
       "2   37   M           ATA        130          283          0         ST     98   \n",
       "3   48   F           ASY        138          214          0     Normal    108   \n",
       "4   54   M           NAP        150          195          0     Normal    122   \n",
       "\n",
       "  ExerciseAngina  Oldpeak ST_Slope  HeartDisease  \n",
       "0              N      0.0       Up             0  \n",
       "1              N      1.0     Flat             1  \n",
       "2              N      0.0       Up             0  \n",
       "3              Y      1.5     Flat             1  \n",
       "4              N      0.0       Up             0  "
      ]
     },
     "execution_count": 3,
     "metadata": {},
     "output_type": "execute_result"
    }
   ],
   "source": [
    "df = pd.read_csv(file)\n",
    "df.head()"
   ]
  },
  {
   "cell_type": "code",
   "execution_count": 4,
   "id": "de3784a7",
   "metadata": {
    "execution": {
     "iopub.execute_input": "2024-06-27T14:49:22.403582Z",
     "iopub.status.busy": "2024-06-27T14:49:22.402657Z",
     "iopub.status.idle": "2024-06-27T14:49:22.420189Z",
     "shell.execute_reply": "2024-06-27T14:49:22.419312Z"
    },
    "papermill": {
     "duration": 0.025441,
     "end_time": "2024-06-27T14:49:22.422336",
     "exception": false,
     "start_time": "2024-06-27T14:49:22.396895",
     "status": "completed"
    },
    "tags": []
   },
   "outputs": [],
   "source": [
    "# convert categorical features with n outputs into n binary features\n",
    "one_hot_encoding = ['Sex',\n",
    "'ChestPainType',\n",
    "'RestingECG',\n",
    "'ExerciseAngina',\n",
    "'ST_Slope'\n",
    "]\n",
    "df = pd.get_dummies(data = df, prefix = one_hot_encoding, columns = one_hot_encoding)"
   ]
  },
  {
   "cell_type": "code",
   "execution_count": 5,
   "id": "51068c74",
   "metadata": {
    "execution": {
     "iopub.execute_input": "2024-06-27T14:49:22.433307Z",
     "iopub.status.busy": "2024-06-27T14:49:22.432982Z",
     "iopub.status.idle": "2024-06-27T14:49:22.455420Z",
     "shell.execute_reply": "2024-06-27T14:49:22.454299Z"
    },
    "papermill": {
     "duration": 0.030457,
     "end_time": "2024-06-27T14:49:22.457634",
     "exception": false,
     "start_time": "2024-06-27T14:49:22.427177",
     "status": "completed"
    },
    "tags": []
   },
   "outputs": [
    {
     "data": {
      "text/html": [
       "<div>\n",
       "<style scoped>\n",
       "    .dataframe tbody tr th:only-of-type {\n",
       "        vertical-align: middle;\n",
       "    }\n",
       "\n",
       "    .dataframe tbody tr th {\n",
       "        vertical-align: top;\n",
       "    }\n",
       "\n",
       "    .dataframe thead th {\n",
       "        text-align: right;\n",
       "    }\n",
       "</style>\n",
       "<table border=\"1\" class=\"dataframe\">\n",
       "  <thead>\n",
       "    <tr style=\"text-align: right;\">\n",
       "      <th></th>\n",
       "      <th>Age</th>\n",
       "      <th>RestingBP</th>\n",
       "      <th>Cholesterol</th>\n",
       "      <th>FastingBS</th>\n",
       "      <th>MaxHR</th>\n",
       "      <th>Oldpeak</th>\n",
       "      <th>HeartDisease</th>\n",
       "      <th>Sex_F</th>\n",
       "      <th>Sex_M</th>\n",
       "      <th>ChestPainType_ASY</th>\n",
       "      <th>...</th>\n",
       "      <th>ChestPainType_NAP</th>\n",
       "      <th>ChestPainType_TA</th>\n",
       "      <th>RestingECG_LVH</th>\n",
       "      <th>RestingECG_Normal</th>\n",
       "      <th>RestingECG_ST</th>\n",
       "      <th>ExerciseAngina_N</th>\n",
       "      <th>ExerciseAngina_Y</th>\n",
       "      <th>ST_Slope_Down</th>\n",
       "      <th>ST_Slope_Flat</th>\n",
       "      <th>ST_Slope_Up</th>\n",
       "    </tr>\n",
       "  </thead>\n",
       "  <tbody>\n",
       "    <tr>\n",
       "      <th>0</th>\n",
       "      <td>40</td>\n",
       "      <td>140</td>\n",
       "      <td>289</td>\n",
       "      <td>0</td>\n",
       "      <td>172</td>\n",
       "      <td>0.0</td>\n",
       "      <td>0</td>\n",
       "      <td>False</td>\n",
       "      <td>True</td>\n",
       "      <td>False</td>\n",
       "      <td>...</td>\n",
       "      <td>False</td>\n",
       "      <td>False</td>\n",
       "      <td>False</td>\n",
       "      <td>True</td>\n",
       "      <td>False</td>\n",
       "      <td>True</td>\n",
       "      <td>False</td>\n",
       "      <td>False</td>\n",
       "      <td>False</td>\n",
       "      <td>True</td>\n",
       "    </tr>\n",
       "    <tr>\n",
       "      <th>1</th>\n",
       "      <td>49</td>\n",
       "      <td>160</td>\n",
       "      <td>180</td>\n",
       "      <td>0</td>\n",
       "      <td>156</td>\n",
       "      <td>1.0</td>\n",
       "      <td>1</td>\n",
       "      <td>True</td>\n",
       "      <td>False</td>\n",
       "      <td>False</td>\n",
       "      <td>...</td>\n",
       "      <td>True</td>\n",
       "      <td>False</td>\n",
       "      <td>False</td>\n",
       "      <td>True</td>\n",
       "      <td>False</td>\n",
       "      <td>True</td>\n",
       "      <td>False</td>\n",
       "      <td>False</td>\n",
       "      <td>True</td>\n",
       "      <td>False</td>\n",
       "    </tr>\n",
       "    <tr>\n",
       "      <th>2</th>\n",
       "      <td>37</td>\n",
       "      <td>130</td>\n",
       "      <td>283</td>\n",
       "      <td>0</td>\n",
       "      <td>98</td>\n",
       "      <td>0.0</td>\n",
       "      <td>0</td>\n",
       "      <td>False</td>\n",
       "      <td>True</td>\n",
       "      <td>False</td>\n",
       "      <td>...</td>\n",
       "      <td>False</td>\n",
       "      <td>False</td>\n",
       "      <td>False</td>\n",
       "      <td>False</td>\n",
       "      <td>True</td>\n",
       "      <td>True</td>\n",
       "      <td>False</td>\n",
       "      <td>False</td>\n",
       "      <td>False</td>\n",
       "      <td>True</td>\n",
       "    </tr>\n",
       "    <tr>\n",
       "      <th>3</th>\n",
       "      <td>48</td>\n",
       "      <td>138</td>\n",
       "      <td>214</td>\n",
       "      <td>0</td>\n",
       "      <td>108</td>\n",
       "      <td>1.5</td>\n",
       "      <td>1</td>\n",
       "      <td>True</td>\n",
       "      <td>False</td>\n",
       "      <td>True</td>\n",
       "      <td>...</td>\n",
       "      <td>False</td>\n",
       "      <td>False</td>\n",
       "      <td>False</td>\n",
       "      <td>True</td>\n",
       "      <td>False</td>\n",
       "      <td>False</td>\n",
       "      <td>True</td>\n",
       "      <td>False</td>\n",
       "      <td>True</td>\n",
       "      <td>False</td>\n",
       "    </tr>\n",
       "    <tr>\n",
       "      <th>4</th>\n",
       "      <td>54</td>\n",
       "      <td>150</td>\n",
       "      <td>195</td>\n",
       "      <td>0</td>\n",
       "      <td>122</td>\n",
       "      <td>0.0</td>\n",
       "      <td>0</td>\n",
       "      <td>False</td>\n",
       "      <td>True</td>\n",
       "      <td>False</td>\n",
       "      <td>...</td>\n",
       "      <td>True</td>\n",
       "      <td>False</td>\n",
       "      <td>False</td>\n",
       "      <td>True</td>\n",
       "      <td>False</td>\n",
       "      <td>True</td>\n",
       "      <td>False</td>\n",
       "      <td>False</td>\n",
       "      <td>False</td>\n",
       "      <td>True</td>\n",
       "    </tr>\n",
       "  </tbody>\n",
       "</table>\n",
       "<p>5 rows × 21 columns</p>\n",
       "</div>"
      ],
      "text/plain": [
       "   Age  RestingBP  Cholesterol  FastingBS  MaxHR  Oldpeak  HeartDisease  \\\n",
       "0   40        140          289          0    172      0.0             0   \n",
       "1   49        160          180          0    156      1.0             1   \n",
       "2   37        130          283          0     98      0.0             0   \n",
       "3   48        138          214          0    108      1.5             1   \n",
       "4   54        150          195          0    122      0.0             0   \n",
       "\n",
       "   Sex_F  Sex_M  ChestPainType_ASY  ...  ChestPainType_NAP  ChestPainType_TA  \\\n",
       "0  False   True              False  ...              False             False   \n",
       "1   True  False              False  ...               True             False   \n",
       "2  False   True              False  ...              False             False   \n",
       "3   True  False               True  ...              False             False   \n",
       "4  False   True              False  ...               True             False   \n",
       "\n",
       "   RestingECG_LVH  RestingECG_Normal  RestingECG_ST  ExerciseAngina_N  \\\n",
       "0           False               True          False              True   \n",
       "1           False               True          False              True   \n",
       "2           False              False           True              True   \n",
       "3           False               True          False             False   \n",
       "4           False               True          False              True   \n",
       "\n",
       "   ExerciseAngina_Y  ST_Slope_Down  ST_Slope_Flat  ST_Slope_Up  \n",
       "0             False          False          False         True  \n",
       "1             False          False           True        False  \n",
       "2             False          False          False         True  \n",
       "3              True          False           True        False  \n",
       "4             False          False          False         True  \n",
       "\n",
       "[5 rows x 21 columns]"
      ]
     },
     "execution_count": 5,
     "metadata": {},
     "output_type": "execute_result"
    }
   ],
   "source": [
    "df.head()"
   ]
  },
  {
   "cell_type": "code",
   "execution_count": 6,
   "id": "946fe2e5",
   "metadata": {
    "execution": {
     "iopub.execute_input": "2024-06-27T14:49:22.469256Z",
     "iopub.status.busy": "2024-06-27T14:49:22.468917Z",
     "iopub.status.idle": "2024-06-27T14:49:22.474323Z",
     "shell.execute_reply": "2024-06-27T14:49:22.473248Z"
    },
    "papermill": {
     "duration": 0.014395,
     "end_time": "2024-06-27T14:49:22.477129",
     "exception": false,
     "start_time": "2024-06-27T14:49:22.462734",
     "status": "completed"
    },
    "tags": []
   },
   "outputs": [
    {
     "name": "stdout",
     "output_type": "stream",
     "text": [
      "20\n"
     ]
    }
   ],
   "source": [
    "# Removing our target variable\n",
    "features = [x for x in df.columns if x != 'HeartDisease']\n",
    "print(len(features))"
   ]
  },
  {
   "cell_type": "code",
   "execution_count": 7,
   "id": "1356580f",
   "metadata": {
    "execution": {
     "iopub.execute_input": "2024-06-27T14:49:22.488848Z",
     "iopub.status.busy": "2024-06-27T14:49:22.488467Z",
     "iopub.status.idle": "2024-06-27T14:49:22.499158Z",
     "shell.execute_reply": "2024-06-27T14:49:22.498208Z"
    },
    "papermill": {
     "duration": 0.019243,
     "end_time": "2024-06-27T14:49:22.501472",
     "exception": false,
     "start_time": "2024-06-27T14:49:22.482229",
     "status": "completed"
    },
    "tags": []
   },
   "outputs": [],
   "source": [
    "# splitting dataset into training and cross-validation data \n",
    "RANDOM_STATE = 55\n",
    "X_train, X_val, y_train, y_val = train_test_split(df[features], df['HeartDisease'], train_size = 0.8, random_state = RANDOM_STATE)"
   ]
  },
  {
   "cell_type": "code",
   "execution_count": 8,
   "id": "b4ceb23a",
   "metadata": {
    "execution": {
     "iopub.execute_input": "2024-06-27T14:49:22.512864Z",
     "iopub.status.busy": "2024-06-27T14:49:22.512515Z",
     "iopub.status.idle": "2024-06-27T14:49:22.517762Z",
     "shell.execute_reply": "2024-06-27T14:49:22.516777Z"
    },
    "papermill": {
     "duration": 0.013971,
     "end_time": "2024-06-27T14:49:22.520587",
     "exception": false,
     "start_time": "2024-06-27T14:49:22.506616",
     "status": "completed"
    },
    "tags": []
   },
   "outputs": [
    {
     "name": "stdout",
     "output_type": "stream",
     "text": [
      "training samples: 734\n",
      "cross-validation samples: 184\n",
      "target proportion: 0.5518\n"
     ]
    }
   ],
   "source": [
    "print(f'training samples: {len(X_train)}')\n",
    "print(f'cross-validation samples: {len(X_val)}')\n",
    "print(f'target proportion: {sum(y_train)/len(y_train):.4f}')"
   ]
  },
  {
   "cell_type": "code",
   "execution_count": 9,
   "id": "3898a257",
   "metadata": {
    "execution": {
     "iopub.execute_input": "2024-06-27T14:49:22.532288Z",
     "iopub.status.busy": "2024-06-27T14:49:22.531694Z",
     "iopub.status.idle": "2024-06-27T14:49:22.535819Z",
     "shell.execute_reply": "2024-06-27T14:49:22.534876Z"
    },
    "papermill": {
     "duration": 0.012112,
     "end_time": "2024-06-27T14:49:22.537749",
     "exception": false,
     "start_time": "2024-06-27T14:49:22.525637",
     "status": "completed"
    },
    "tags": []
   },
   "outputs": [],
   "source": [
    "# Implementing Decision Tree Model"
   ]
  },
  {
   "cell_type": "code",
   "execution_count": 10,
   "id": "c0a34f50",
   "metadata": {
    "execution": {
     "iopub.execute_input": "2024-06-27T14:49:22.549402Z",
     "iopub.status.busy": "2024-06-27T14:49:22.548694Z",
     "iopub.status.idle": "2024-06-27T14:49:22.553997Z",
     "shell.execute_reply": "2024-06-27T14:49:22.552972Z"
    },
    "papermill": {
     "duration": 0.013477,
     "end_time": "2024-06-27T14:49:22.556289",
     "exception": false,
     "start_time": "2024-06-27T14:49:22.542812",
     "status": "completed"
    },
    "tags": []
   },
   "outputs": [],
   "source": [
    "# min_samples_split_list = minimum samples to go on splitting the tree\n",
    "# max_depth_list = maximum depth after which we need to stop splitting the tree\n",
    "min_samples_split_list = [2,10, 30, 50, 100, 200, 300, 700] ## If the number is an integer, then it is the actual quantity of samples,\n",
    "max_depth_list = [1,2, 3, 4, 8, 16, 32, 64, None] # None means that there is no depth limit."
   ]
  },
  {
   "cell_type": "code",
   "execution_count": 11,
   "id": "914a7134",
   "metadata": {
    "execution": {
     "iopub.execute_input": "2024-06-27T14:49:22.567979Z",
     "iopub.status.busy": "2024-06-27T14:49:22.567619Z",
     "iopub.status.idle": "2024-06-27T14:49:23.004911Z",
     "shell.execute_reply": "2024-06-27T14:49:23.003856Z"
    },
    "papermill": {
     "duration": 0.446298,
     "end_time": "2024-06-27T14:49:23.007602",
     "exception": false,
     "start_time": "2024-06-27T14:49:22.561304",
     "status": "completed"
    },
    "tags": []
   },
   "outputs": [
    {
     "data": {
      "text/plain": [
       "<matplotlib.legend.Legend at 0x781eddbb6650>"
      ]
     },
     "execution_count": 11,
     "metadata": {},
     "output_type": "execute_result"
    },
    {
     "data": {
      "image/png": "[encoded data removed]",
      "text/plain": [
       "<Figure size 640x480 with 1 Axes>"
      ]
     },
     "metadata": {},
     "output_type": "display_data"
    }
   ],
   "source": [
    "# Considering only min_samples_split_list\n",
    "accuracy_list_train = []\n",
    "accuracy_list_val = []\n",
    "for min_samples_split in min_samples_split_list:\n",
    "    model = DecisionTreeClassifier(min_samples_split = min_samples_split,\n",
    "                                   random_state = RANDOM_STATE).fit(X_train,y_train) \n",
    "    predictions_train = model.predict(X_train)\n",
    "    predictions_val = model.predict(X_val)\n",
    "    accuracy_train = accuracy_score(predictions_train,y_train)\n",
    "    accuracy_val = accuracy_score(predictions_val,y_val)\n",
    "    accuracy_list_train.append(accuracy_train)\n",
    "    accuracy_list_val.append(accuracy_val)\n",
    "plt.plot(accuracy_list_train)\n",
    "plt.plot(accuracy_list_val)\n",
    "plt.xlabel('min_samples_split')\n",
    "plt.ylabel('accuracy')\n",
    "plt.title('Train cross-validation metrics')\n",
    "plt.legend(['Train','Validation'])"
   ]
  },
  {
   "cell_type": "code",
   "execution_count": 12,
   "id": "5d66d6e1",
   "metadata": {
    "execution": {
     "iopub.execute_input": "2024-06-27T14:49:23.021236Z",
     "iopub.status.busy": "2024-06-27T14:49:23.020613Z",
     "iopub.status.idle": "2024-06-27T14:49:23.405861Z",
     "shell.execute_reply": "2024-06-27T14:49:23.404854Z"
    },
    "papermill": {
     "duration": 0.394906,
     "end_time": "2024-06-27T14:49:23.408423",
     "exception": false,
     "start_time": "2024-06-27T14:49:23.013517",
     "status": "completed"
    },
    "tags": []
   },
   "outputs": [
    {
     "data": {
      "text/plain": [
       "<matplotlib.legend.Legend at 0x781ee8e97d90>"
      ]
     },
     "execution_count": 12,
     "metadata": {},
     "output_type": "execute_result"
    },
    {
     "data": {
      "image/png": "[encoded data removed]",
      "text/plain": [
       "<Figure size 640x480 with 1 Axes>"
      ]
     },
     "metadata": {},
     "output_type": "display_data"
    }
   ],
   "source": [
    "# Considering only max_depth\n",
    "accuracy_list_train = []\n",
    "accuracy_list_val = []\n",
    "for max_depth in max_depth_list:\n",
    "    # You can fit the model at the same time you define it, because the fit function returns the fitted estimator.\n",
    "    model = DecisionTreeClassifier(max_depth = max_depth,\n",
    "                                   random_state = RANDOM_STATE).fit(X_train,y_train) \n",
    "    predictions_train = model.predict(X_train) ## The predicted values for the train dataset\n",
    "    predictions_val = model.predict(X_val) ## The predicted values for the test dataset\n",
    "    accuracy_train = accuracy_score(predictions_train,y_train)\n",
    "    accuracy_val = accuracy_score(predictions_val,y_val)\n",
    "    accuracy_list_train.append(accuracy_train)\n",
    "    accuracy_list_val.append(accuracy_val)\n",
    "\n",
    "plt.title('Train x Validation metrics')\n",
    "plt.xlabel('max_depth')\n",
    "plt.ylabel('accuracy')\n",
    "plt.plot(accuracy_list_train)\n",
    "plt.plot(accuracy_list_val)\n",
    "plt.legend(['Train','Validation'])"
   ]
  },
  {
   "cell_type": "code",
   "execution_count": 13,
   "id": "884e673c",
   "metadata": {
    "execution": {
     "iopub.execute_input": "2024-06-27T14:49:23.423943Z",
     "iopub.status.busy": "2024-06-27T14:49:23.423066Z",
     "iopub.status.idle": "2024-06-27T14:49:23.429738Z",
     "shell.execute_reply": "2024-06-27T14:49:23.428865Z"
    },
    "papermill": {
     "duration": 0.016894,
     "end_time": "2024-06-27T14:49:23.432109",
     "exception": false,
     "start_time": "2024-06-27T14:49:23.415215",
     "status": "completed"
    },
    "tags": []
   },
   "outputs": [
    {
     "data": {
      "text/plain": [
       "'From  the above models we can make the following observations:\\n    1) Increasing the the number of min_samples_split reduces overfitting.\\n    2) Increasing min_samples_split from 10 to 30, and from 30 to 50, \\n       even though it does not improve the validation accuracy, \\n       it brings the training accuracy closer to it, showing a reduction in overfitting.\\n    3) Decreasing the the max_depth reduces overfitting.\\n    4) Reducing max_depth from 8 to 4 increases validation accuracy closer to training accuracy, \\n       while significantly reducing training accuracy.\\n    5) The validation accuracy reaches the highest at tree_depth=4.\\n    \\n    So in our decision tree model will we consider taking min_samples_split = 50 & max_depth = 4\\n'"
      ]
     },
     "execution_count": 13,
     "metadata": {},
     "output_type": "execute_result"
    }
   ],
   "source": [
    "'''From  the above models we can make the following observations:\n",
    "    1) Increasing the the number of min_samples_split reduces overfitting.\n",
    "    2) Increasing min_samples_split from 10 to 30, and from 30 to 50, \n",
    "       even though it does not improve the validation accuracy, \n",
    "       it brings the training accuracy closer to it, showing a reduction in overfitting.\n",
    "    3) Decreasing the the max_depth reduces overfitting.\n",
    "    4) Reducing max_depth from 8 to 4 increases validation accuracy closer to training accuracy, \n",
    "       while significantly reducing training accuracy.\n",
    "    5) The validation accuracy reaches the highest at tree_depth=4.\n",
    "    \n",
    "    So in our decision tree model will we consider taking min_samples_split = 50 & max_depth = 4\n",
    "''' "
   ]
  },
  {
   "cell_type": "code",
   "execution_count": 14,
   "id": "79d93069",
   "metadata": {
    "execution": {
     "iopub.execute_input": "2024-06-27T14:49:23.447337Z",
     "iopub.status.busy": "2024-06-27T14:49:23.447008Z",
     "iopub.status.idle": "2024-06-27T14:49:23.463607Z",
     "shell.execute_reply": "2024-06-27T14:49:23.462462Z"
    },
    "papermill": {
     "duration": 0.027308,
     "end_time": "2024-06-27T14:49:23.466120",
     "exception": false,
     "start_time": "2024-06-27T14:49:23.438812",
     "status": "completed"
    },
    "tags": []
   },
   "outputs": [
    {
     "name": "stdout",
     "output_type": "stream",
     "text": [
      "Metrics train:\n",
      "\tAccuracy score: 0.8583\n",
      "Metrics validation:\n",
      "\tAccuracy score: 0.8641\n"
     ]
    }
   ],
   "source": [
    "decision_tree_model = DecisionTreeClassifier(min_samples_split = 50,\n",
    "                                             max_depth = 3,\n",
    "                                             random_state = RANDOM_STATE).fit(X_train,y_train)\n",
    "print(f\"Metrics train:\\n\\tAccuracy score: {accuracy_score(decision_tree_model.predict(X_train),y_train):.4f}\")\n",
    "print(f\"Metrics validation:\\n\\tAccuracy score: {accuracy_score(decision_tree_model.predict(X_val),y_val):.4f}\")"
   ]
  },
  {
   "cell_type": "code",
   "execution_count": 15,
   "id": "2537256f",
   "metadata": {
    "execution": {
     "iopub.execute_input": "2024-06-27T14:49:23.481387Z",
     "iopub.status.busy": "2024-06-27T14:49:23.481015Z",
     "iopub.status.idle": "2024-06-27T14:49:23.485858Z",
     "shell.execute_reply": "2024-06-27T14:49:23.484657Z"
    },
    "papermill": {
     "duration": 0.015069,
     "end_time": "2024-06-27T14:49:23.488082",
     "exception": false,
     "start_time": "2024-06-27T14:49:23.473013",
     "status": "completed"
    },
    "tags": []
   },
   "outputs": [],
   "source": [
    "# We have successfull reduced overfitting while also achieving 86% accuracy in validation set"
   ]
  },
  {
   "cell_type": "code",
   "execution_count": null,
   "id": "563a6042",
   "metadata": {
    "papermill": {
     "duration": 0.006486,
     "end_time": "2024-06-27T14:49:23.501552",
     "exception": false,
     "start_time": "2024-06-27T14:49:23.495066",
     "status": "completed"
    },
    "tags": []
   },
   "outputs": [],
   "source": []
  },
  {
   "cell_type": "code",
   "execution_count": null,
   "id": "d4a6d70e",
   "metadata": {
    "papermill": {
     "duration": 0.006462,
     "end_time": "2024-06-27T14:49:23.514652",
     "exception": false,
     "start_time": "2024-06-27T14:49:23.508190",
     "status": "completed"
    },
    "tags": []
   },
   "outputs": [],
   "source": []
  }
 ],
 "metadata": {
  "kaggle": {
   "accelerator": "none",
   "dataSources": [
    {
     "datasetId": 1582403,
     "sourceId": 2603715,
     "sourceType": "datasetVersion"
    }
   ],
   "dockerImageVersionId": 30732,
   "isGpuEnabled": false,
   "isInternetEnabled": false,
   "language": "python",
   "sourceType": "notebook"
  },
  "kernelspec": {
   "display_name": "Python 3",
   "language": "python",
   "name": "python3"
  },
  "language_info": {
   "codemirror_mode": {
    "name": "ipython",
    "version": 3
   },
   "file_extension": ".py",
   "mimetype": "text/x-python",
   "name": "python",
   "nbconvert_exporter": "python",
   "pygments_lexer": "ipython3",
   "version": "3.10.13"
  },
  "papermill": {
   "default_parameters": {},
   "duration": 6.559239,
   "end_time": "2024-06-27T14:49:24.041960",
   "environment_variables": {},
   "exception": null,
   "input_path": "__notebook__.ipynb",
   "output_path": "__notebook__.ipynb",
   "parameters": {},
   "start_time": "2024-06-27T14:49:17.482721",
   "version": "2.5.0"
  }
 },
 "nbformat": 4,
 "nbformat_minor": 5
}
